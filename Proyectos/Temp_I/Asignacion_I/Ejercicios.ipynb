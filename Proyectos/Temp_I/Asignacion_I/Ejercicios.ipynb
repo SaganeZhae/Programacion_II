{
 "cells": [
  {
   "cell_type": "markdown",
   "metadata": {},
   "source": [
    "Objetivo:\n",
    "\n",
    "Aplicar los conceptos fundamentales de Python, como la sintaxis básica, tipos de datos, variables, y estructuras de control, a situaciones semi-reales.\n",
    "\n",
    "Instrucciones:\n",
    "Resuelve los siguientes ejercicios proporcionando el código y los resultados correspondientes. Puedes usar cualquier entorno de desarrollo de Python para completar estos ejercicios.\n",
    "\n",
    "Ejercicio 1: Registro de Usuario\n",
    "Enunciado:\n",
    "Alicia está desarrollando una aplicación para registrar usuarios. Ella necesita capturar la siguiente información de cada usuario: nombre, apellido, edad y altura. Esta información debe ser almacenada en variables y luego mostrada en un formato amigable."
   ]
  },
  {
   "cell_type": "markdown",
   "metadata": {},
   "source": [
    "Tareas:\n",
    "\n",
    "1- Escribe un programa que pida al usuario ingresar su nombre, apellido, edad y altura.\n",
    "2- Almacena esta información en variables.\n",
    "3- Muestra la información del usuario en una oración que diga: \"El usuario [Nombre] [Apellido] tiene [Edad] años y una altura de [Altura] metros.\""
   ]
  },
  {
   "cell_type": "code",
   "execution_count": 1,
   "metadata": {},
   "outputs": [
    {
     "name": "stdout",
     "output_type": "stream",
     "text": [
      "El usuario Valerie De la cruz tiene 27 años y una altura de 168 metros.\n"
     ]
    }
   ],
   "source": [
    "Nombre = input(\"Digite su nombre: \")\n",
    "Apellido = input(\"Digite su apellido: \")\n",
    "Edad = input(\"Digite su edad: \")\n",
    "Altura = input(\"Digite su altura en metros: \")\n",
    "\n",
    "print(f\"El usuario {Nombre} {Apellido} tiene {Edad} años y una altura de {Altura} metros.\")\n"
   ]
  },
  {
   "cell_type": "markdown",
   "metadata": {},
   "source": [
    "Ejercicio 2: Operaciones Matemáticas en un Proyecto\n",
    "Enunciado:\n",
    "El sistema de Alicia necesita realizar algunas operaciones matemáticas básicas para calcular el IMC (Índice de Masa Corporal) de los usuarios. El IMC se calcula como el peso en kilogramos dividido por la altura en metros al cuadrado.\n",
    "\n",
    "Tareas:\n",
    "\n",
    "Escribe un programa que pida al usuario ingresar su peso en kilogramos y su altura en metros.\n",
    "Calcula el IMC utilizando la fórmula mencionada.\n",
    "Muestra el IMC del usuario con un mensaje que diga: \"Tu IMC es [IMC].\""
   ]
  },
  {
   "cell_type": "code",
   "execution_count": 10,
   "metadata": {},
   "outputs": [
    {
     "name": "stdout",
     "output_type": "stream",
     "text": [
      "Tu IMC es 18.\n"
     ]
    }
   ],
   "source": [
    "Peso_kg = float(input(\"Digite su peso en kg: \"))\n",
    "Altura_m = float(input(\"Digite su altura en metros: \"))\n",
    "\n",
    "IMC = round(Peso_kg / Altura_m**2)\n",
    "print(f\"Tu IMC es {IMC}.\")"
   ]
  },
  {
   "cell_type": "markdown",
   "metadata": {},
   "source": [
    "Ejercicio 3: Evaluación de Edad\n",
    "Enunciado:\n",
    "Alicia necesita un sistema que determine si una persona es un adulto o un menor. Un adulto es alguien que tiene 18 años o más.\n",
    "\n",
    "Tareas:\n",
    "\n",
    "Escribe un programa que pida al usuario ingresar su edad.\n",
    "Utiliza una estructura condicional para determinar si la persona es un adulto (18 años o más) o un menor (menos de 18 años).\n",
    "Muestra un mensaje que diga: \"Eres adulto\" o \"Eres menor\", según corresponda."
   ]
  },
  {
   "cell_type": "code",
   "execution_count": null,
   "metadata": {},
   "outputs": [],
   "source": []
  }
 ],
 "metadata": {
  "kernelspec": {
   "display_name": "Python 3",
   "language": "python",
   "name": "python3"
  },
  "language_info": {
   "codemirror_mode": {
    "name": "ipython",
    "version": 3
   },
   "file_extension": ".py",
   "mimetype": "text/x-python",
   "name": "python",
   "nbconvert_exporter": "python",
   "pygments_lexer": "ipython3",
   "version": "3.11.5"
  }
 },
 "nbformat": 4,
 "nbformat_minor": 2
}
