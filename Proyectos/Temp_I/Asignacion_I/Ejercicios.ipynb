{
 "cells": [
  {
   "cell_type": "markdown",
   "metadata": {},
   "source": [
    "Objetivo:\n",
    "\n",
    "Aplicar los conceptos fundamentales de Python, como la sintaxis básica, tipos de datos, variables, y estructuras de control, a situaciones semi-reales.\n",
    "\n",
    "Instrucciones:\n",
    "Resuelve los siguientes ejercicios proporcionando el código y los resultados correspondientes. Puedes usar cualquier entorno de desarrollo de Python para completar estos ejercicios.\n",
    "\n",
    "Ejercicio 1: Registro de Usuario\n",
    "Enunciado:\n",
    "Alicia está desarrollando una aplicación para registrar usuarios. Ella necesita capturar la siguiente información de cada usuario: nombre, apellido, edad y altura. Esta información debe ser almacenada en variables y luego mostrada en un formato amigable."
   ]
  },
  {
   "cell_type": "markdown",
   "metadata": {},
   "source": [
    "Tareas:\n",
    "\n",
    "1- Escribe un programa que pida al usuario ingresar su nombre, apellido, edad y altura.\n",
    "2- Almacena esta información en variables.\n",
    "3- Muestra la información del usuario en una oración que diga: \"El usuario [Nombre] [Apellido] tiene [Edad] años y una altura de [Altura] metros.\""
   ]
  },
  {
   "cell_type": "code",
   "execution_count": 1,
   "metadata": {},
   "outputs": [
    {
     "name": "stdout",
     "output_type": "stream",
     "text": [
      "El usuario Valerie De la cruz tiene 27 años y una altura de 168 metros.\n"
     ]
    }
   ],
   "source": [
    "# Ingreso de datos \n",
    "Nombre = input(\"Digite su nombre: \")\n",
    "Apellido = input(\"Digite su apellido: \")\n",
    "Edad = input(\"Digite su edad: \")\n",
    "Altura = input(\"Digite su altura en metros: \")\n",
    "\n",
    "# impresion de datos\n",
    "print(f\"El usuario {Nombre} {Apellido} tiene {Edad} años y una altura de {Altura} metros.\")\n"
   ]
  },
  {
   "cell_type": "markdown",
   "metadata": {},
   "source": [
    "Ejercicio 2: Operaciones Matemáticas en un Proyecto\n",
    "Enunciado:\n",
    "El sistema de Alicia necesita realizar algunas operaciones matemáticas básicas para calcular el IMC (Índice de Masa Corporal) de los usuarios. El IMC se calcula como el peso en kilogramos dividido por la altura en metros al cuadrado.\n",
    "\n",
    "Tareas:\n",
    "\n",
    "Escribe un programa que pida al usuario ingresar su peso en kilogramos y su altura en metros.\n",
    "Calcula el IMC utilizando la fórmula mencionada.\n",
    "Muestra el IMC del usuario con un mensaje que diga: \"Tu IMC es [IMC].\""
   ]
  },
  {
   "cell_type": "code",
   "execution_count": 10,
   "metadata": {},
   "outputs": [
    {
     "name": "stdout",
     "output_type": "stream",
     "text": [
      "Tu IMC es 18.\n"
     ]
    }
   ],
   "source": [
    "# Ingreso de peso y altura para calcular el IMC\n",
    "Peso_kg = float(input(\"Digite su peso en kg: \"))\n",
    "Altura_m = float(input(\"Digite su altura en metros: \"))\n",
    "\n",
    "# Cálculo del IMC\n",
    "IMC = round(Peso_kg / Altura_m**2)\n",
    "print(f\"Tu IMC es {IMC}.\") # Se imprime el IMC redondeado a un entero"
   ]
  },
  {
   "cell_type": "markdown",
   "metadata": {},
   "source": [
    "Ejercicio 3: Evaluación de Edad\n",
    "Enunciado:\n",
    "Alicia necesita un sistema que determine si una persona es un adulto o un menor. Un adulto es alguien que tiene 18 años o más.\n",
    "\n",
    "Tareas:\n",
    "\n",
    "Escribe un programa que pida al usuario ingresar su edad.\n",
    "Utiliza una estructura condicional para determinar si la persona es un adulto (18 años o más) o un menor (menos de 18 años).\n",
    "Muestra un mensaje que diga: \"Eres adulto\" o \"Eres menor\", según corresponda."
   ]
  },
  {
   "cell_type": "code",
   "execution_count": 2,
   "metadata": {},
   "outputs": [
    {
     "name": "stdout",
     "output_type": "stream",
     "text": [
      "Eres adulto.\n"
     ]
    }
   ],
   "source": [
    "# Ingreso de datos\n",
    "Edad = int(input(\"Digite su edad: \"))\n",
    "\n",
    "# condicion para determinar si es menor o adulto\n",
    "if Edad < 18:\n",
    "    print(\"Eres menor.\")\n",
    "else:\n",
    "    print(\"Eres adulto.\")"
   ]
  },
  {
   "cell_type": "markdown",
   "metadata": {},
   "source": [
    "Ejercicio 4: Listas de Compras\n",
    "Enunciado:\n",
    "Alicia está creando una aplicación para gestionar listas de compras. Ella necesita permitir a los usuarios agregar ítems a una lista y luego mostrar todos los ítems de la lista.\n",
    "\n",
    "Tareas:\n",
    "\n",
    "Escribe un programa que permita al usuario agregar ítems a una lista de compras hasta que decida dejar de agregar más ítems.\n",
    "Una vez que el usuario decida detenerse, muestra todos los ítems que han sido agregados a la lista."
   ]
  },
  {
   "cell_type": "code",
   "execution_count": 6,
   "metadata": {},
   "outputs": [
    {
     "name": "stdout",
     "output_type": "stream",
     "text": [
      "\n",
      "\n",
      "Lista de compras: \n",
      "\n",
      "Item agregado a la lista.\n",
      "\n",
      "\n",
      "Lista de compras: \n",
      "PAN\n",
      "\n",
      "Item agregado a la lista.\n",
      "\n",
      "\n",
      "Lista de compras: \n",
      "PAN\n",
      "ARROZ\n",
      "\n",
      "Item agregado a la lista.\n",
      "\n",
      "\n",
      "Lista de compras: \n",
      "PAN\n",
      "ARROZ\n",
      "HABICHUELA\n",
      "\n"
     ]
    }
   ],
   "source": [
    "# Creacion de una lista de compras\n",
    "Lista_Compras = []\n",
    "\n",
    "# Bucle para agregar items a la lista\n",
    "while True:\n",
    "    print() # Imprimir una linea en blanco\n",
    "    print()\n",
    "    print(\"Lista de compras: \") \n",
    "    for compras in Lista_Compras: # Un loop para imprimir cada item en la lista\n",
    "        print(compras)\n",
    "\n",
    "    # Imprimir el menu\n",
    "    print() \n",
    "    opcion = input(\"Ingresa un nuevo item o digita 'x' para salir: \")\n",
    "    opcion = opcion.upper() # Convertir la opcion a mayusculas\n",
    "\n",
    "    # Salir del bucle si el usuario digita 'x'\n",
    "    if opcion == \"X\":\n",
    "        break \n",
    "\n",
    "    # Agregar el item a la lista\n",
    "    Lista_Compras.append(opcion)\n",
    "    print(\"Item agregado a la lista.\") # Mensaje de confirmacion"
   ]
  },
  {
   "cell_type": "markdown",
   "metadata": {},
   "source": [
    "Ejercicio 5: Cálculo de Promedio de Notas\n",
    "Enunciado:\n",
    "En el sistema de gestión de estudiantes, Alicia necesita calcular el promedio de las notas de un estudiante. El usuario debe ingresar una lista de notas y el programa debe calcular el promedio de estas notas.\n",
    "\n",
    "Tareas:\n",
    "\n",
    "Escribe un programa que permita al usuario ingresar una serie de notas.\n",
    "Calcula el promedio de las notas ingresadas.\n",
    "Muestra el promedio con un mensaje que diga: \"El promedio de tus notas es [Promedio].\""
   ]
  },
  {
   "cell_type": "code",
   "execution_count": 8,
   "metadata": {},
   "outputs": [
    {
     "name": "stdout",
     "output_type": "stream",
     "text": [
      "El promedio de tus notas es 96.\n"
     ]
    }
   ],
   "source": [
    "# Ingreso de calificaciones\n",
    "cantidad = int(input(\"Digite la cantidad de calificaciones: \"))\n",
    "calificaciones = []\n",
    "\n",
    "# Bucle para ingresar las calificaciones\n",
    "for i in range(cantidad):\n",
    "    calificacion = float(input(f\"Digite la calificacion {i+1}: \")) \n",
    "    calificaciones.append(calificacion)\n",
    "\n",
    "# Calcular el promedio\n",
    "promedio = round(sum(calificaciones) / cantidad)\n",
    "print(f\"El promedio de tus notas es {promedio}.\") # Imprimir el promedio"
   ]
  },
  {
   "cell_type": "markdown",
   "metadata": {},
   "source": [
    "Enunciado:\n",
    "Alicia está creando una aplicación de conversión de unidades. Ella necesita escribir un programa que conviertan temperaturas de Celsius a Fahrenheit y viceversa.\n",
    "\n",
    "Tareas:\n",
    "\n",
    "Escribe un programa que convierta una temperatura de Celsius a Fahrenheit.\n",
    "Escribe un programaque convierta una temperatura de Fahrenheit a Celsius.\n",
    "Utilize este programa para convertir una temperatura dada en ambas direcciones y muestra los resultados."
   ]
  },
  {
   "cell_type": "code",
   "execution_count": 21,
   "metadata": {},
   "outputs": [
    {
     "name": "stdout",
     "output_type": "stream",
     "text": [
      "86.0 Fahrenheit es equivalente a: 30 Celsius\n"
     ]
    }
   ],
   "source": [
    "# Opcion de celcius o fahrenheit\n",
    "Unidad = input(\"Digite 'C' para convertir a Celsius o 'F' para convertir a Fahrenheit: \").upper()\n",
    "Unidades = (\"C\", \"F\")\n",
    "\n",
    "# Condicion para convertir a Celsius o Fahrenheit\n",
    "if Unidad == Unidades[0]:\n",
    "    F = float(input(\"Digite la temperatura en Fahrenheit: \"))\n",
    "    C = round((F - 32) * 5/9) # Calcular la temperatura en Celsius\n",
    "    print(f'{F} Fahrenheit es equivalente a: {C} Celsius') # Imprimir la temperatura en Celsius\n",
    "elif Unidad == Unidades[1]:\n",
    "    C = float(input(\"Digite la temperatura en Celsius: \"))\n",
    "    F = round(C * 9/5 + 32) # Calcular la temperatura en Fahrenheit\n",
    "    print(f'{C} Celsius es equivalente a: {F} Fahrenheit') # Imprimir la temperatura en Fahrenheit\n",
    "else:\n",
    "    print(\"Unidad no válida. Por favor, digite 'C' o 'F'.\") # Mensaje de error"
   ]
  }
 ],
 "metadata": {
  "kernelspec": {
   "display_name": "Python 3",
   "language": "python",
   "name": "python3"
  },
  "language_info": {
   "codemirror_mode": {
    "name": "ipython",
    "version": 3
   },
   "file_extension": ".py",
   "mimetype": "text/x-python",
   "name": "python",
   "nbconvert_exporter": "python",
   "pygments_lexer": "ipython3",
   "version": "3.11.5"
  }
 },
 "nbformat": 4,
 "nbformat_minor": 2
}
