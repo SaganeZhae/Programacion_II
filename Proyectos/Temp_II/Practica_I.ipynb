{
 "cells": [
  {
   "cell_type": "markdown",
   "metadata": {},
   "source": [
    "<p><h1><font face=\"Monospace\"><center>Práctica I - Temporada II</center></font></h1></p>\n",
    "<br>\n",
    "<p><font face=\"Monospace\">\n",
    "By: Valerie De la cruz Medina\n",
    "<font><p>\n",
    "Matricula: 2023-1524\n",
    "</p>\n",
    "<br>\n",
    "<p><strong><h4><font face=\"Monospace\">Asignación:</strong> Modelo de Cédula en Python con Almacenamiento en CSV<font></h4></p>"
   ]
  },
  {
   "cell_type": "markdown",
   "metadata": {},
   "source": [
    "<p>\t\n",
    "<font face=\"Monospace\"><strong>\n",
    "Objetivo:\n",
    "<font></strong></p>\n",
    "<p><font face=\"Monospace\">\n",
    "Crear un modelo en Python que represente los datos de una cédula, capture la información del usuario, almacene estos datos en un archivo CSV y los cargue en un DataFrame utilizando Pandas.\t\n",
    "</font></p>"
   ]
  },
  {
   "cell_type": "markdown",
   "metadata": {},
   "source": [
    "<p><font face=\"Monospace\"><strong>\n",
    "Instrucciones:\n",
    "</strong><font>\n",
    "<br>\n",
    "<p><font face=\"Monospace\"><strong>\n",
    "1 - </strong>Crear la clase Cedula:\n",
    "<font></p>"
   ]
  },
  {
   "cell_type": "code",
   "execution_count": 27,
   "metadata": {},
   "outputs": [],
   "source": [
    "# Define una clase llamada Cedula e Implementa un método que devuelva una representación legible de la cédula.\n",
    "class cedula:\n",
    "    def __init__(self, numero: int, nombre: str, apellido: str, fecha_nacimiento: str, nacionalidad: str):\n",
    "        self.numero = numero\n",
    "        self.nombre = nombre\n",
    "        self.apellido = apellido\n",
    "        self.fecha_nacimiento = fecha_nacimiento\n",
    "        self.nacionalidad = nacionalidad\n",
    "\n",
    "Numero = input(\"Ingrese su numero de cedula [00000000000]: \")\n",
    "if len(Numero) != 11 and Numero.isdigit() == True:\n",
    "    print(\"Error, la cedula debe tener 11 digitos.\")\n",
    "else:\n",
    "    numero = f\"{Numero[:3]}-{Numero[3:10]}-{Numero[-1]}\"\n",
    "\n",
    "# \n",
    "#\n",
    "# "
   ]
  },
  {
   "cell_type": "markdown",
   "metadata": {},
   "source": [
    "<br>\n",
    "<p><font face=\"Monospace\"><strong>\n",
    "2 - </strong>Capturar información del usuario:\n",
    "<font></p>"
   ]
  },
  {
   "cell_type": "code",
   "execution_count": 39,
   "metadata": {},
   "outputs": [],
   "source": [
    "# Crea un método de clase que permita solicitar al usuario la información necesaria (número de cédula, \n",
    "# apellido, fecha de nacimiento y demás.) y que, a partir de esta información, genere una instancia de la clase Cedula.\n",
    "\n",
    "class cedula:\n",
    "    def __init__(self, numero: int, nombre: str, apellido: str, fecha_nacimiento: str, nacionalidad: str):\n",
    "        self.numero = numero\n",
    "        self.nombre = nombre\n",
    "        self.apellido = apellido\n",
    "        self.fecha_nacimiento = fecha_nacimiento\n",
    "        self.nacionalidad = nacionalidad\n",
    "\n",
    "    @classmethod\n",
    "    def registro(cls):\n",
    "        try:\n",
    "            numero = input(\"Ingrese su numero de cedula [00000000000]: \")\n",
    "            if len(numero) != 11 or not numero.isdigit():\n",
    "                print(\"Error, la cedula debe tener 11 digitos.\")\n",
    "                return None\n",
    "            numero = f\"{numero[:3]}-{numero[3:10]}-{numero[-1]}\"\n",
    "            nombre = input(\"Ingrese su nombre: \")\n",
    "            apellido = input(\"Ingrese su apellido: \")\n",
    "            fecha_nacimiento = input(\"Ingrese su fecha de nacimiento [aaaa/mm/dd]: \")\n",
    "            nacionalidad = input(\"Ingrese su nacionalidad: \")\n",
    "            return cls(numero, nombre, apellido, fecha_nacimiento, nacionalidad)\n",
    "        except Exception as e:\n",
    "            print(f\"Error en los datos digitados: {e}\")\n",
    "            return None\n",
    "\n",
    "datos = cedula.registro()\n"
   ]
  },
  {
   "cell_type": "markdown",
   "metadata": {},
   "source": [
    "<br>\n",
    "<p><font face=\"Monospace\"><strong>\n",
    "3 - </strong>Guardar información en un archivo CSV:\n",
    "<font></p>"
   ]
  },
  {
   "cell_type": "code",
   "execution_count": 40,
   "metadata": {},
   "outputs": [],
   "source": [
    "# Implementa una función que permita almacenar los datos de la instancia de Cedula en un archivo CSV llamado cedulas.csv.\n",
    "\n",
    "def GuardarInfo(cedula: cedula):\n",
    "    try:\n",
    "        with open(\"cedulas.csv\", \"a\") as file:\n",
    "            file.write(f\"{cedula.numero},{cedula.nombre},{cedula.apellido},{cedula.fecha_nacimiento},{cedula.nacionalidad}\\n\")\n",
    "    except Exception as e:\n",
    "        print(f\"Error al guardar la cedula: {e}\")"
   ]
  },
  {
   "cell_type": "markdown",
   "metadata": {},
   "source": [
    "<br>\n",
    "<p><font face=\"Monospace\"><strong>\n",
    "4 - </strong>Leer datos desde el CSV en un DataFrame:\n",
    "<font></p>"
   ]
  },
  {
   "cell_type": "code",
   "execution_count": null,
   "metadata": {},
   "outputs": [],
   "source": []
  }
 ],
 "metadata": {
  "kernelspec": {
   "display_name": "Python 3",
   "language": "python",
   "name": "python3"
  },
  "language_info": {
   "codemirror_mode": {
    "name": "ipython",
    "version": 3
   },
   "file_extension": ".py",
   "mimetype": "text/x-python",
   "name": "python",
   "nbconvert_exporter": "python",
   "pygments_lexer": "ipython3",
   "version": "3.11.5"
  }
 },
 "nbformat": 4,
 "nbformat_minor": 2
}
