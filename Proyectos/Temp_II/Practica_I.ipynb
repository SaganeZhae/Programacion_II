{
 "cells": [
  {
   "cell_type": "markdown",
   "metadata": {},
   "source": [
    "<p><h1><font face=\"Monospace\"><center>Práctica I - Temporada II</center></font></h1></p>\n",
    "<br>\n",
    "<p><font face=\"Monospace\">\n",
    "By: Valerie De la cruz Medina\n",
    "<font><p>\n",
    "Matricula: 2023-1524\n",
    "</p>\n",
    "<br>\n",
    "<p><strong><h4><font face=\"Monospace\">Asignación:</strong> Modelo de Cédula en Python con Almacenamiento en CSV<font></h4></p>"
   ]
  },
  {
   "cell_type": "markdown",
   "metadata": {},
   "source": [
    "<p>\t\n",
    "<font face=\"Monospace\"><strong>\n",
    "Objetivo:\n",
    "<font></strong></p>\n",
    "<p><font face=\"Monospace\">\n",
    "Crear un modelo en Python que represente los datos de una cédula, capture la información del usuario, almacene estos datos en un archivo CSV y los cargue en un DataFrame utilizando Pandas.\t\n",
    "</font></p>"
   ]
  },
  {
   "cell_type": "markdown",
   "metadata": {},
   "source": [
    "<p><font face=\"Monospace\"><strong>\n",
    "Instrucciones:\n",
    "</strong><font>\n",
    "<br>\n",
    "<p><font face=\"Monospace\"><strong>\n",
    "1 - </strong>Crear la clase Cedula:\n",
    "<font></p>"
   ]
  },
  {
   "cell_type": "code",
   "execution_count": 62,
   "metadata": {},
   "outputs": [
    {
     "name": "stdout",
     "output_type": "stream",
     "text": [
      "001-9823683-2\n"
     ]
    }
   ],
   "source": [
    "# Define una clase llamada Cedula e Implementa un método que devuelva una representación legible de la cédula.\n",
    "\n",
    "\n",
    "class cedula:\n",
    "    contar = 0\n",
    "    def __init__(self, numero: int, nombre: str, apellido: str, fecha_nacimiento: str, nacionalidad: str):\n",
    "        self.numero = numero\n",
    "        self.nombre = nombre\n",
    "        self.apellido = apellido\n",
    "        self.fecha_nacimiento = fecha_nacimiento\n",
    "        self.nacionalidad = nacionalidad\n",
    "    def __repr__(self):\n",
    "            self.contar += 1\n",
    "            return \"Bienvenido %s\"%self.nombre\n",
    "    \n",
    "Numero = input(\"Ingrese su numero de cedula [00000000000]: \")\n",
    "if len(Numero) != 11 and Numero.isdigit() == True:\n",
    "    print(\"Error, la cedula debe tener 11 digitos.\")\n",
    "else:\n",
    "    numero = f\"{Numero[:3]}-{Numero[3:10]}-{Numero[-1]}\"\n",
    "\n",
    "print(numero)\n",
    "\n",
    "# se crea una clase llamada cedula, utilizamos el metodo __init__ para inicializar los atributos de la clase\n",
    "# los cuales son numero, nombre, apellido, fecha_nacimiento y nacionalidad seguido de un metodo __repr__ que\n",
    "# devuelve un mensaje de bienvenida con el nombre del usuario. \n",
    "# finalmente, se crea una variable llamada Numero que pide al usuario que ingrese su numero de cedula y se valida\n",
    "# que el numero tenga 11 digitos y que sea un numero entero, si no cumple con las condiciones se imprime un mensaje\n",
    "# de error, de lo contrario se imprime el numero de cedula con el formato correcto."
   ]
  },
  {
   "cell_type": "markdown",
   "metadata": {},
   "source": [
    "<br>\n",
    "<p><font face=\"Monospace\"><strong>\n",
    "2 - </strong>Capturar información del usuario:\n",
    "<font></p>"
   ]
  },
  {
   "cell_type": "code",
   "execution_count": 63,
   "metadata": {},
   "outputs": [],
   "source": [
    "# Crea un método de clase que permita solicitar al usuario la información necesaria (número de cédula, \n",
    "# apellido, fecha de nacimiento y demás.) y que, a partir de esta información, genere una instancia de la clase Cedula.\n",
    "\n",
    "class cedula:\n",
    "    def __init__(self, numero: int, nombre: str, apellido: str, fecha_nacimiento: str, nacionalidad: str):\n",
    "        self.numero = numero\n",
    "        self.nombre = nombre\n",
    "        self.apellido = apellido\n",
    "        self.fecha_nacimiento = fecha_nacimiento\n",
    "        self.nacionalidad = nacionalidad\n",
    "\n",
    "    @classmethod\n",
    "    def registro(cls):\n",
    "        try:\n",
    "            numero = input(\"Ingrese su numero de cedula [00000000000]: \")\n",
    "            if len(numero) != 11 or not numero.isdigit():\n",
    "                print(\"Error, la cedula debe tener 11 digitos.\")\n",
    "                return None\n",
    "            numero = f\"{numero[:3]}-{numero[3:10]}-{numero[-1]}\"\n",
    "            nombre = input(\"Ingrese su nombre: \")\n",
    "            apellido = input(\"Ingrese su apellido: \")\n",
    "            fecha_nacimiento = strftime(\"%Y-%m-%D\")\n",
    "            fecha_nacimiento = input(\"Ingrese su fecha de nacimiento [aaaa-mm-dd]: \")\n",
    "            nacionalidad = input(\"Ingrese su nacionalidad: \")\n",
    "            return cls(numero, nombre, apellido, fecha_nacimiento, nacionalidad)\n",
    "        except Exception as e:\n",
    "            print(f\"Error en los datos digitados: {e}\")\n",
    "            return None\n",
    "\n",
    "# utilizamos el mismo formato de la clase anterior, pero en este caso se crea un metodo de clase llamado registro\n",
    "# que solicita al usuario la informacion necesaria para generar una instancia de la clase cedula, usando el metodo\n",
    "# anterior anterior para validar que el numero de cedula tenga 11 digitos y sea un numero entero, solo que esta vez \n",
    "# esta dentro de un ciclo try-except para manejar las excepciones que puedan surgir al ingresar los datos.\n",
    "# colocamos el resto de los datos que se necesitan para crear la instancia de la clase cedula y retornamos la instancia\n",
    "# con la variacion de que se pide la fecha de nacimiento al usuario y se le da un formato de año-mes-dia.\n",
    "# por ultimo, si hay algun error en los datos ingresados se imprime un mensaje de error y se retorna None."
   ]
  },
  {
   "cell_type": "markdown",
   "metadata": {},
   "source": [
    "<br>\n",
    "<p><font face=\"Monospace\"><strong>\n",
    "3 - </strong>Guardar información en un archivo CSV:\n",
    "<font></p>"
   ]
  },
  {
   "cell_type": "code",
   "execution_count": 68,
   "metadata": {},
   "outputs": [],
   "source": [
    "# Implementa una función que permita almacenar los datos de la instancia de Cedula en un archivo CSV llamado cedulas.csv.\n",
    "\n",
    "def GuardarInfo(cedula):\n",
    "    try:\n",
    "        try:\n",
    "            with open(\"cedulas.csv\", \"r+\"):\n",
    "                pass\n",
    "        except FileNotFoundError:\n",
    "            with open(\"cedulas.csv\", \"w\") as datos:\n",
    "                datos.write(\"numero,nombre,apellido,fecha_nacimiento,nacionalidad\\n\")\n",
    "        \n",
    "        with open(\"cedulas.csv\", \"a\") as datos:\n",
    "            datos.write(f\"{cedula.numero},{cedula.nombre},{cedula.apellido},{cedula.fecha_nacimiento},{cedula.nacionalidad}\\n\")\n",
    "    except Exception as e:\n",
    "        print(f\"Error al guardar la cedula: {e}\")\n",
    "\n",
    "GuardarInfo(cedula.registro())\n",
    "\n",
    "# se crea una funcion llamada GuardarInfo que recibe como parametro una instancia de la clase cedula, se intenta abrir\n",
    "# el archivo cedulas.csv en modo lectura y escritura, si no existe el archivo se crea y se escribe la cabecera del archivo\n",
    "# con los nombres de las columnas, luego se abre el archivo en modo de escritura y se escriben los datos de la instancia\n",
    "# de la clase cedula en el archivo, si hay algun error al guardar los datos se imprime un mensaje de error."
   ]
  },
  {
   "cell_type": "markdown",
   "metadata": {},
   "source": [
    "<br>\n",
    "<p><font face=\"Monospace\"><strong>\n",
    "4 - </strong>Leer datos desde el CSV en un DataFrame:\n",
    "<font></p>"
   ]
  },
  {
   "cell_type": "code",
   "execution_count": 69,
   "metadata": {},
   "outputs": [
    {
     "name": "stdout",
     "output_type": "stream",
     "text": [
      "          numero nombre     apellido fecha_nacimiento nacionalidad\n",
      "0  402-8741704-6  Maria  Del rosario       1960-12-28   Dominicana\n",
      "1  001-7392658-9  Pedro      Jimenez       1975-01-17     Mexicano\n",
      "2  402-1026492-6  Juana     Martinez       1995-06-10   Dominicana\n"
     ]
    }
   ],
   "source": [
    "import pandas as pd\n",
    "\n",
    "df = pd.read_csv(\"cedulas.csv\", encoding=\"utf-8\")\n",
    "\n",
    "print(df)\n",
    "\n",
    "# se importa la libreria pandas y se lee el archivo cedulas.csv con la funcion read_csv de pandas, se guarda en la variable\n",
    "# df y se imprime el contenido del archivo dando como resultado un dataframe con los datos de las cedulas guardadas."
   ]
  }
 ],
 "metadata": {
  "kernelspec": {
   "display_name": "Python 3",
   "language": "python",
   "name": "python3"
  },
  "language_info": {
   "codemirror_mode": {
    "name": "ipython",
    "version": 3
   },
   "file_extension": ".py",
   "mimetype": "text/x-python",
   "name": "python",
   "nbconvert_exporter": "python",
   "pygments_lexer": "ipython3",
   "version": "3.11.5"
  }
 },
 "nbformat": 4,
 "nbformat_minor": 2
}
